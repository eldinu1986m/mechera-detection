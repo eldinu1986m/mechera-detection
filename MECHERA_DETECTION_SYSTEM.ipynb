{
  "nbformat": 4,
  "nbformat_minor": 0,
  "metadata": {
    "colab": {
      "provenance": [],
      "authorship_tag": "ABX9TyMf+OucDx2S/plAxoWBXdcX",
      "include_colab_link": true
    },
    "kernelspec": {
      "name": "python3",
      "display_name": "Python 3"
    },
    "language_info": {
      "name": "python"
    }
  },
  "cells": [
    {
      "cell_type": "markdown",
      "metadata": {
        "id": "view-in-github",
        "colab_type": "text"
      },
      "source": [
        "<a href=\"https://colab.research.google.com/github/eldinu1986m/mechera-detection/blob/main/MECHERA_DETECTION_SYSTEM.ipynb\" target=\"_parent\"><img src=\"https://colab.research.google.com/assets/colab-badge.svg\" alt=\"Open In Colab\"/></a>"
      ]
    },
    {
      "cell_type": "code",
      "source": [
        "# CELDA 0: INSTALAR DEPENDENCIAS\n",
        "!pip install streamlit pyngrok scikit-learn pandas numpy joblib -q\n",
        "print(\"Dependencias instaladas: streamlit, pyngrok, scikit-learn, etc.\")"
      ],
      "metadata": {
        "colab": {
          "base_uri": "https://localhost:8080/"
        },
        "id": "ujrgHM_T2y9O",
        "outputId": "ad0c110e-19ff-4c07-a6a2-4b8df9aaab52"
      },
      "execution_count": 10,
      "outputs": [
        {
          "output_type": "stream",
          "name": "stdout",
          "text": [
            "Dependencias instaladas: streamlit, pyngrok, scikit-learn, etc.\n"
          ]
        }
      ]
    },
    {
      "cell_type": "code",
      "source": [
        "# CELDA 1: MONTAR DRIVE\n",
        "from google.colab import drive\n",
        "import os\n",
        "\n",
        "drive.mount('/content/drive')\n",
        "os.makedirs('/content/drive/MyDrive/mechera/models', exist_ok=True)\n",
        "os.makedirs('/content/drive/MyDrive/mechera/data', exist_ok=True)\n",
        "\n",
        "print(\"Drive montado. Carpetas listas: /mechera/models y /mechera/data\")"
      ],
      "metadata": {
        "colab": {
          "base_uri": "https://localhost:8080/"
        },
        "id": "IUPyvilw21o1",
        "outputId": "e5a03f55-c5da-49ab-a3f7-a6ebb4c8fd1d"
      },
      "execution_count": 11,
      "outputs": [
        {
          "output_type": "stream",
          "name": "stdout",
          "text": [
            "Drive already mounted at /content/drive; to attempt to forcibly remount, call drive.mount(\"/content/drive\", force_remount=True).\n",
            "Drive montado. Carpetas listas: /mechera/models y /mechera/data\n"
          ]
        }
      ]
    },
    {
      "cell_type": "code",
      "source": [
        "# CELDA 2: DATOS SIMULADOS (RSSI + VENTAS)\n",
        "import pandas as pd\n",
        "import numpy as np\n",
        "\n",
        "np.random.seed(42)\n",
        "timestamps = pd.date_range('2023-10-01', periods=600, freq='100ms')\n",
        "\n",
        "# RSSI\n",
        "rssi = np.random.uniform(-90, -40, 600)\n",
        "rssi_df = pd.DataFrame({'rssi': rssi}, index=timestamps)\n",
        "rssi_df.to_csv('/content/drive/MyDrive/mechera/data/rssi.csv')\n",
        "\n",
        "# Ventas\n",
        "sales = np.random.uniform(0, 100, 600)\n",
        "sales_df = pd.DataFrame({'sales': sales}, index=timestamps)\n",
        "sales_df.to_csv('/content/drive/MyDrive/mechera/data/sales.csv')\n",
        "\n",
        "print(f\"Generados: {len(rssi_df)} RSSI | {len(sales_df)} ventas\")"
      ],
      "metadata": {
        "colab": {
          "base_uri": "https://localhost:8080/"
        },
        "id": "SsYZO5zH262N",
        "outputId": "9a9befb2-01a4-44cb-bd6d-e9fb116b3310"
      },
      "execution_count": 12,
      "outputs": [
        {
          "output_type": "stream",
          "name": "stdout",
          "text": [
            "Generados: 600 RSSI | 600 ventas\n"
          ]
        }
      ]
    },
    {
      "cell_type": "code",
      "source": [
        "# CELDA 3: FEATURES + MECHERAS\n",
        "merged = rssi_df.join(sales_df)\n",
        "merged['rssi_variance'] = merged['rssi'].rolling(3).var().fillna(0)\n",
        "merged['dwell_proxy'] = merged['rssi'].rolling(3).mean().fillna(0)\n",
        "merged['pass_count'] = (merged['rssi'].diff() != 0).cumsum()\n",
        "\n",
        "# MECHERAS: lógica realista\n",
        "mechera = pd.DataFrame({\n",
        "    'rssi': np.random.uniform(-60, -40, 100),\n",
        "    'rssi_variance': np.random.uniform(7, 12, 100),\n",
        "    'dwell_proxy': np.random.uniform(-60, -45, 100),\n",
        "    'pass_count': np.random.randint(6, 15, 100),\n",
        "    'label_intention': ['potential_theft'] * 100\n",
        "})\n",
        "\n",
        "normal = pd.DataFrame({\n",
        "    'rssi': np.random.uniform(-70, -50, 300),\n",
        "    'rssi_variance': np.random.uniform(0, 4, 300),\n",
        "    'dwell_proxy': np.random.uniform(-70, -55, 300),\n",
        "    'pass_count': np.random.randint(1, 4, 300),\n",
        "    'label_intention': ['browsing'] * 300\n",
        "})\n",
        "\n",
        "data = pd.concat([mechera, normal], ignore_index=True)\n",
        "X = data[['rssi', 'rssi_variance', 'dwell_proxy', 'pass_count']]\n",
        "y = data['label_intention']\n",
        "\n",
        "from sklearn.ensemble import RandomForestClassifier, RandomForestRegressor\n",
        "\n",
        "# Modelo intención\n",
        "rf_intention = RandomForestClassifier(n_estimators=500, random_state=42)\n",
        "rf_intention.fit(X, y)\n",
        "joblib.dump(rf_intention, '/content/drive/MyDrive/mechera/models/rf_intention.pkl')\n",
        "\n",
        "# Modelo ventas\n",
        "X_sales = merged[['rssi', 'rssi_variance', 'dwell_proxy', 'pass_count']].dropna()\n",
        "y_sales = merged['sales'].loc[X_sales.index]\n",
        "rf_sales = RandomForestRegressor(n_estimators=100, random_state=42)\n",
        "rf_sales.fit(X_sales, y_sales)\n",
        "joblib.dump(rf_sales, '/content/drive/MyDrive/mechera/models/rf_sales.pkl')\n",
        "\n",
        "print(\"Modelos entrenados: Mechera + Ventas\")"
      ],
      "metadata": {
        "colab": {
          "base_uri": "https://localhost:8080/"
        },
        "id": "JqKVKdl229eV",
        "outputId": "a1c1a7c3-e32d-4808-d924-02a922c0dda8"
      },
      "execution_count": 13,
      "outputs": [
        {
          "output_type": "stream",
          "name": "stdout",
          "text": [
            "Modelos entrenados: Mechera + Ventas\n"
          ]
        }
      ]
    },
    {
      "cell_type": "code",
      "source": [
        "# CELDA 4: DASHBOARD\n",
        "%%writefile /content/mechera_dashboard.py\n",
        "import streamlit as st\n",
        "import joblib\n",
        "import numpy as np\n",
        "\n",
        "# Cargar modelos\n",
        "rf_sales = joblib.load('/content/drive/MyDrive/mechera/models/rf_sales.pkl')\n",
        "rf_intention = joblib.load('/content/drive/MyDrive/mechera/models/rf_intention.pkl')\n",
        "\n",
        "st.set_page_config(page_title=\"Mechera Detection\", layout=\"centered\")\n",
        "st.title(\"MECHERA DETECTION SYSTEM\")\n",
        "st.markdown(\"**Ecofactoria Digital** - Detecta mecheras con WiFi del local\")\n",
        "\n",
        "col1, col2 = st.columns(2)\n",
        "with col1:\n",
        "    r = st.slider(\"RSSI (dBm)\", -90., -40., -60.)\n",
        "    v = st.slider(\"Varianza\", 0., 15., 7.)\n",
        "with col2:\n",
        "    d = st.slider(\"Dwell\", -90., -40., -55.)\n",
        "    p = st.slider(\"Pasadas\", 1, 15, 8)\n",
        "\n",
        "if st.button(\"ANALIZAR CLIENTE\", type=\"primary\"):\n",
        "    X = np.array([[r, v, d, p]])\n",
        "    s = rf_sales.predict(X)[0]\n",
        "    i = rf_intention.predict(X)[0]\n",
        "\n",
        "    st.metric(\"Ventas estimadas\", f\"${s:.1f}\")\n",
        "    st.write(f\"**Intención:** {i}\")\n",
        "\n",
        "    if i == 'potential_theft':\n",
        "        st.error(\"MECHERA DETECTADA!\")\n",
        "        st.markdown(\"\"\"\n",
        "        <div style='text-align:center; padding:20px; background:#ffebee; border-radius:15px;'>\n",
        "          <h1 style='color:red;'>¡ALERTA: POSIBLE MECHERA!</h1>\n",
        "          <p>Movimiento sospechoso + muchas pasadas</p>\n",
        "          <img src='https://media.giphy.com/media/3o7btPCcdNniyf0ArS/giphy.gif' width='250'>\n",
        "        </div>\n",
        "        \"\"\", unsafe_allow_html=True)\n",
        "    else:\n",
        "        st.success(\"Cliente normal - Sugerir producto\")"
      ],
      "metadata": {
        "colab": {
          "base_uri": "https://localhost:8080/"
        },
        "id": "4VP6fZV22_c-",
        "outputId": "e61c2f7c-3520-4347-da9c-587ad9b2f30e"
      },
      "execution_count": 14,
      "outputs": [
        {
          "output_type": "stream",
          "name": "stdout",
          "text": [
            "Overwriting /content/mechera_dashboard.py\n"
          ]
        }
      ]
    },
    {
      "cell_type": "code",
      "source": [
        "# CELDA 5: NGROK CON TU TOKEN\n",
        "from pyngrok import ngrok\n",
        "import time\n",
        "\n",
        "# LIMPIAR\n",
        "!pkill -f streamlit\n",
        "!pkill -f ngrok\n",
        "time.sleep(3)\n",
        "\n",
        "# TU TOKEN (NO CAMBIAR)\n",
        "!ngrok authtoken 34hWVmUmtYM1dy3U4lQYoq8XoFB_3r3v1ty8E87JHyTso22YN\n",
        "\n",
        "print(\"ngrok configurado con tu token\")"
      ],
      "metadata": {
        "colab": {
          "base_uri": "https://localhost:8080/"
        },
        "id": "I3YSl-2F3CL9",
        "outputId": "77d043d3-791e-463d-a836-fc2e07c09073"
      },
      "execution_count": 15,
      "outputs": [
        {
          "output_type": "stream",
          "name": "stdout",
          "text": [
            "Authtoken saved to configuration file: /root/.config/ngrok/ngrok.yml\n",
            "ngrok configurado con tu token\n"
          ]
        }
      ]
    },
    {
      "cell_type": "code",
      "source": [
        "# CELDA 6: LANZAR DASHBOARD\n",
        "public_url = ngrok.connect(8501)\n",
        "print(f\"\\nDASHBOARD EN VIVO:\\n{public_url}\\n\")\n",
        "\n",
        "!streamlit run /content/mechera_dashboard.py --server.port 8501"
      ],
      "metadata": {
        "colab": {
          "base_uri": "https://localhost:8080/"
        },
        "id": "_WTAWOpW3Eu1",
        "outputId": "c4e05bb2-d0f1-480c-c18a-01a10c4044c2"
      },
      "execution_count": null,
      "outputs": [
        {
          "output_type": "stream",
          "name": "stdout",
          "text": [
            "\n",
            "DASHBOARD EN VIVO:\n",
            "NgrokTunnel: \"https://triste-pensive-jeannette.ngrok-free.dev\" -> \"http://localhost:8501\"\n",
            "\n",
            "\n",
            "Collecting usage statistics. To deactivate, set browser.gatherUsageStats to false.\n",
            "\u001b[0m\n",
            "\u001b[0m\n",
            "\u001b[34m\u001b[1m  You can now view your Streamlit app in your browser.\u001b[0m\n",
            "\u001b[0m\n",
            "\u001b[34m  Local URL: \u001b[0m\u001b[1mhttp://localhost:8501\u001b[0m\n",
            "\u001b[34m  Network URL: \u001b[0m\u001b[1mhttp://172.28.0.12:8501\u001b[0m\n",
            "\u001b[34m  External URL: \u001b[0m\u001b[1mhttp://34.169.73.150:8501\u001b[0m\n",
            "\u001b[0m\n"
          ]
        }
      ]
    }
  ]
}